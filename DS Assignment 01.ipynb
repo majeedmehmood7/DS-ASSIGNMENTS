{
 "cells": [
  {
   "cell_type": "code",
   "execution_count": 5,
   "id": "726cc1c5",
   "metadata": {},
   "outputs": [
    {
     "name": "stdout",
     "output_type": "stream",
     "text": [
      "Question # 01\n",
      " \n",
      "Twinkle,twinkle,little star,\n",
      "       How I wonder what you are!\n",
      "               Up above the world so high,\n",
      "               Like a diamound in the sky,\n",
      "Twinkle,twinkle,little star,\n",
      "       How I wonder what you are!\n"
     ]
    }
   ],
   "source": [
    "print(\"Question # 01\");\n",
    "print(\" \")\n",
    "A=(\"Twinkle,twinkle,little star,\");\n",
    "B=(\"       How I wonder what you are!\");\n",
    "C=(\"               Up above the world so high,\");\n",
    "D=(\"               Like a diamound in the sky,\");\n",
    "print(A);\n",
    "print(B);\n",
    "print(C);\n",
    "print(D);\n",
    "print(A);\n",
    "print(B);"
   ]
  },
  {
   "cell_type": "code",
   "execution_count": 21,
   "id": "87168d42",
   "metadata": {},
   "outputs": [
    {
     "name": "stdout",
     "output_type": "stream",
     "text": [
      "Question # 02\n",
      " \n",
      "3.9.7 (default, Sep 16 2021, 16:59:28) [MSC v.1916 64 bit (AMD64)]\n"
     ]
    }
   ],
   "source": [
    "print(\"Question # 02\");\n",
    "print(\" \")\n",
    "\n",
    "import sys\n",
    "print(sys.version)"
   ]
  },
  {
   "cell_type": "code",
   "execution_count": 24,
   "id": "b728e5b7",
   "metadata": {},
   "outputs": [
    {
     "name": "stdout",
     "output_type": "stream",
     "text": [
      "Question # 03\n",
      " \n",
      "2022-01-01 16:41:25.272271\n"
     ]
    }
   ],
   "source": [
    "print(\"Question # 03\");\n",
    "print(\" \")\n",
    "\n",
    "import datetime     \n",
    "current_time = datetime.datetime.now() \n",
    "print (current_time) "
   ]
  },
  {
   "cell_type": "code",
   "execution_count": 23,
   "id": "04613e7d",
   "metadata": {},
   "outputs": [
    {
     "name": "stdout",
     "output_type": "stream",
     "text": [
      "Question # 04\n",
      " \n",
      "Input the radius of the circle : 5\n",
      "The area of the circle with radius  is: 78.53981633974483\n"
     ]
    }
   ],
   "source": [
    "print(\"Question # 04\");\n",
    "print(\" \")\n",
    "\n",
    "from math import pi\n",
    "radius = float(input (\"Input the radius of the circle : \"))\n",
    "print (\"The area of the circle with radius \" + \" is: \" + str(pi * radius **2))"
   ]
  },
  {
   "cell_type": "code",
   "execution_count": 19,
   "id": "69ad0016",
   "metadata": {},
   "outputs": [
    {
     "name": "stdout",
     "output_type": "stream",
     "text": [
      "Question # 05\n",
      " \n",
      "Input your First Name : Majeed\n",
      "Input your Last Name : Mehmood\n",
      "Mehmood Majeed\n"
     ]
    }
   ],
   "source": [
    "print(\"Question # 05\");\n",
    "print(\" \")\n",
    "\n",
    "fname = input(\"Input your First Name : \")\n",
    "lname = input(\"Input your Last Name : \")\n",
    "print (lname + \" \" + fname)\n"
   ]
  },
  {
   "cell_type": "code",
   "execution_count": 18,
   "id": "1052f29e",
   "metadata": {},
   "outputs": [
    {
     "name": "stdout",
     "output_type": "stream",
     "text": [
      "Question # 06\n",
      " \n",
      "Enter First Number :45\n",
      "Enter Second number :56\n",
      "Addition of Two Numbers : 101\n"
     ]
    }
   ],
   "source": [
    "print(\"Question # 06\");\n",
    "print(\" \")\n",
    "\n",
    "x=input(\"Enter First Number :\");\n",
    "y=input(\"Enter Second number :\");\n",
    "z=int(x) + int(y);\n",
    "print(\"Addition of Two Numbers :\" ,z);\n"
   ]
  },
  {
   "cell_type": "code",
   "execution_count": null,
   "id": "862e4e6a",
   "metadata": {},
   "outputs": [],
   "source": []
  },
  {
   "cell_type": "code",
   "execution_count": null,
   "id": "eafca53d",
   "metadata": {},
   "outputs": [],
   "source": []
  }
 ],
 "metadata": {
  "kernelspec": {
   "display_name": "Python 3 (ipykernel)",
   "language": "python",
   "name": "python3"
  },
  "language_info": {
   "codemirror_mode": {
    "name": "ipython",
    "version": 3
   },
   "file_extension": ".py",
   "mimetype": "text/x-python",
   "name": "python",
   "nbconvert_exporter": "python",
   "pygments_lexer": "ipython3",
   "version": "3.9.7"
  }
 },
 "nbformat": 4,
 "nbformat_minor": 5
}
